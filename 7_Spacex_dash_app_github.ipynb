{
 "cells": [
  {
   "cell_type": "markdown",
   "id": "f1ab9d73-70fc-4204-be9c-e272bcf36295",
   "metadata": {},
   "source": [
    "<p style=\"text-align:center\">\n",
    "    <a href=\"https://skills.network\" target=\"_blank\">\n",
    "    <img src=\"https://cf-courses-data.s3.us.cloud-object-storage.appdomain.cloud/assets/logos/SN_web_lightmode.png\" width=\"200\" alt=\"Skills Network Logo\">\n",
    "    </a>\n",
    "</p>\n"
   ]
  },
  {
   "cell_type": "markdown",
   "id": "5a3c959b-1131-423c-95b0-eda3e6840b7d",
   "metadata": {},
   "source": [
    "\n",
    "<h1 style=\"text-align: center;\">Project: Building a Dashboard Application with Plotly Dash</h1>\n"
   ]
  },
  {
   "cell_type": "markdown",
   "id": "f2ed0b11-5fae-4790-a145-b9d6bf76ddce",
   "metadata": {},
   "source": [
    "In this lab, you will be building a Plotly Dash application for users to perform interactive visual analytics on SpaceX launch data in\n",
    "real-time.\n",
    "\n",
    "This dashboard application contains input components such as a dropdown list and a range slider to\n",
    "interact with a pie chart and a scatter point chart.\n"
   ]
  },
  {
   "cell_type": "markdown",
   "id": "cde54e09-9a61-4b9c-906e-72df6aad9a83",
   "metadata": {},
   "source": [
    "## Objectives\n",
    "\n",
    "You will be guided to build this dashboard application via the following tasks:\n",
    "- **TASK 1:** Add a Launch Site Drop-down Input Component\n",
    "- **TASK 2:** Add a callback function to render success-pie-chart based on selected site dropdown\n",
    "- **TASK 3:** Add a Range Slider to Select Payload\n",
    "- **TASK 4:** Add a callback function to render the success-payload-scatter-chart scatter plot\n",
    "\n",
    "Note: Please take screenshots of the Dashboard and save them. Further upload your notebook to github.\n",
    "The github url and the screenshots are later required in presentation slides."
   ]
  },
  {
   "cell_type": "code",
   "execution_count": null,
   "id": "9230a040-8f98-453f-b1df-1113d2bd0daa",
   "metadata": {},
   "outputs": [],
   "source": []
  },
  {
   "cell_type": "code",
   "execution_count": null,
   "id": "cf24d918-c22d-46cc-851e-3ee41d16cddc",
   "metadata": {
    "tags": []
   },
   "outputs": [],
   "source": [
    "# Import required libraries\n",
    "import pandas as pd\n",
    "import dash\n",
    "from dash import html\n",
    "# import dash_html_components as html\n",
    "from dash import dcc\n",
    "# import dash_core_components as dcc\n",
    "from dash.dependencies import Input, Output\n",
    "import plotly.express as px\n"
   ]
  },
  {
   "cell_type": "code",
   "execution_count": null,
   "id": "c921273f-1762-4d9e-95b7-51458d76a041",
   "metadata": {
    "tags": []
   },
   "outputs": [],
   "source": [
    "\n",
    "# Read the airline data into pandas dataframe\n",
    "spacex_df = pd.read_csv(\"spacex_launch_dash.csv\")\n",
    "max_payload = spacex_df['Payload Mass (kg)'].max()\n",
    "min_payload = spacex_df['Payload Mass (kg)'].min()\n",
    "\n",
    "# Create a dash application\n",
    "app = dash.Dash(__name__)\n",
    "\n",
    "# Create an app layout\n",
    "app.layout = html.Div(children=[html.H1('SpaceX Launch Records Dashboard',\n",
    "                                        style={'textAlign': 'center', 'color': '#503D36',\n",
    "                                               'font-size': 40}),\n",
    "                                # TASK 1: Add a dropdown list to enable Launch Site selection\n",
    "                                # The default select value is for ALL sites\n",
    "                                # dcc.Dropdown(id='site-dropdown',...)\n",
    "                                  dcc.Dropdown(id='site-dropdown',\n",
    "                                                options=[\n",
    "                                                    {'label': 'All Sites', 'value': 'ALL'},\n",
    "                                                    {'label': 'CCAFS LC-40', 'value': 'CCAFS LC-40'},\n",
    "                                                    {'label': 'CCAFS SLC-40', 'value': 'CCAFS SLC-40'},\n",
    "                                                    {'label': 'KSC LC-39A', 'value': 'KSC LC-39A'},\n",
    "                                                    {'label': 'VAFB SLC-4E', 'value': 'VAFB SLC-4E'},\n",
    "                                                ],\n",
    "                                                value='ALL',\n",
    "                                                placeholder=\"Select a Launch Site here\",\n",
    "                                                searchable=True\n",
    "                                                ),\n",
    "                                html.Br(),\n",
    "\n",
    "                                # TASK 2: Add a pie chart to show the total successful launches count for all sites\n",
    "                                # If a specific launch site was selected, show the Success vs. Failed counts for the site\n",
    "                                html.Div(dcc.Graph(id='success-pie-chart')),\n",
    "                                html.Br(),\n",
    "\n",
    "                                html.P(\"Payload range (Kg):\"),\n",
    "                                # TASK 3: Add a slider to select payload range\n",
    "                                dcc.RangeSlider(\n",
    "                                    id='payload-slider',\n",
    "                                    min=0, max=10000,\n",
    "                                    step=1000,\n",
    "                                    marks={0: '0', 2500: '2500', 5000: '5000', 7500: '7500', 10000: '10000'},\n",
    "                                    value=[min_payload, max_payload]\n",
    "                                ),\n",
    "\n",
    "\n",
    "                                # TASK 4: Add a scatter chart to show the correlation between payload and launch success\n",
    "                                html.Div(dcc.Graph(id='success-payload-scatter-chart')),\n",
    "                                ])\n",
    "\n",
    "# TASK 2:\n",
    "# Add a callback function for `site-dropdown` as input, `success-pie-chart` as output\n",
    "# Function decorator to specify function input and output\n",
    "@app.callback(Output(component_id='success-pie-chart', component_property='figure'),\n",
    "              Input(component_id='site-dropdown', component_property='value'))\n",
    "def get_pie_chart(entered_site):\n",
    "   \n",
    "    if entered_site == 'ALL':\n",
    "        data = spacex_df.groupby(['Launch Site'], as_index=False)['class'].sum()\n",
    "        data['class'] = data['class']/data['class'].sum()\n",
    "        fig = px.pie(data, values='class', \n",
    "        names='Launch Site', \n",
    "        title='Total Success Launches By Site')\n",
    "        return fig\n",
    "    else:\n",
    "        # return the outcomes piechart for a selected site\n",
    "        filtered_df = spacex_df[spacex_df['Launch Site'] == entered_site]\n",
    "\n",
    "        # Count the occurrences of each class\n",
    "        class_counts = filtered_df['class'].value_counts().reset_index()\n",
    "        class_counts.columns = ['class', 'count']\n",
    "        \n",
    "        # Create the pie chart\n",
    "        fig = px.pie(class_counts, names='class', values='count', \n",
    "                     title=f'Total Success Launches for {entered_site}',\n",
    "                     labels={'class': 'Outcome', 'count': 'Count'},\n",
    "                     # color='class', color_discrete_map={0: 'red', 1: 'green'}\n",
    "                    )\n",
    "        \n",
    "        return fig\n",
    "# TASK 4:\n",
    "# Add a callback function for `site-dropdown` and `payload-slider` as inputs, `success-payload-scatter-chart` as output\n",
    "@app.callback(Output(component_id='success-payload-scatter-chart', component_property='figure'),\n",
    "              [Input(component_id='site-dropdown', component_property='value'), \n",
    "               Input(component_id=\"payload-slider\", component_property=\"value\")])\n",
    "\n",
    "def update_scatter_chart(entered_site, payload_range):\n",
    "    low, high = payload_range \n",
    "    filtered_df = spacex_df[(spacex_df['Payload Mass (kg)'] >= low) & (spacex_df['Payload Mass (kg)'] <= high)] \n",
    "    if entered_site == 'ALL': \n",
    "        fig = px.scatter(filtered_df, \n",
    "                         x='Payload Mass (kg)', \n",
    "                         y='class', \n",
    "                         color=\"Booster Version\", \n",
    "                         title='Correlation between Payload and Mission Outcome for All Sites', \n",
    "                         labels={'class': 'Launch Outcome'}, \n",
    "                         hover_data=['Launch Site']) \n",
    "    else: \n",
    "        filtered_df = filtered_df[filtered_df['Launch Site'] == entered_site] \n",
    "        fig = px.scatter(filtered_df, \n",
    "                         x='Payload Mass (kg)', y='class', \n",
    "                         color=\"Booster Version\", \n",
    "                         title=f'Correlation between Payload and Mission Outcome for {entered_site}', \n",
    "                         labels={'class': 'Launch Outcome'}, \n",
    "                         hover_data=['Launch Site']) \n",
    "    return fig\n",
    "\n",
    "# Run the app\n",
    "if __name__ == '__main__':\n",
    "    app.run_server(port=8050)\n"
   ]
  },
  {
   "cell_type": "markdown",
   "id": "8a082e6c-1344-48c5-a526-feb7408de625",
   "metadata": {},
   "source": [
    "![Total Success Launches by Site](https://github.com/FankaRoy/IBM-Data-Science-Professional-Certificate/blob/main/spacex-dash-image-pie.png?raw=true)\n"
   ]
  },
  {
   "cell_type": "markdown",
   "id": "e40e6f14-ddfa-4fff-bff7-04a13b5bffa8",
   "metadata": {},
   "source": [
    "![Correlation between Payload and Mission Outcome](https://github.com/FankaRoy/IBM-Data-Science-Professional-Certificate/blob/main/spacex-dash-image-scatter.png?raw=true)\n"
   ]
  },
  {
   "cell_type": "markdown",
   "id": "3e8dbe20-5851-4f0e-81e4-ecd4565c8d13",
   "metadata": {},
   "source": [
    "### Analysis with Your Completed Dashboard\n",
    "\n",
    "Now that your dashboard is up and running, you can use it to analyze the SpaceX launch data effectively. Here’s how you can answer the questions you mentioned:\n",
    "\n",
    "1. **Which site has the largest successful launches?**\n",
    "   - Look at the pie chart for total successful launches by site. The site with the largest pie segment represents the one with the most successful launches."
   ]
  },
  {
   "cell_type": "code",
   "execution_count": null,
   "id": "82568fbc-74c1-493c-8de8-c22d2dc854c7",
   "metadata": {
    "tags": []
   },
   "outputs": [],
   "source": [
    "successful_launches = spacex_df[spacex_df['class'] == 1]\n",
    "site_counts = successful_launches['Launch Site'].value_counts()\n",
    "largest_success_site = site_counts.idxmax()\n",
    "print(\"Site with the largest successful launches:\", largest_success_site)"
   ]
  },
  {
   "cell_type": "markdown",
   "id": "549e222e-fe80-4ce7-a9c1-dc27c6fba4f3",
   "metadata": {},
   "source": [
    "2. **Which site has the highest launch success rate?**\n",
    "   - This can be determined by calculating the ratio of successful launches to the total launches for each site. You may need to further analyze the data using pandas."
   ]
  },
  {
   "cell_type": "code",
   "execution_count": null,
   "id": "462515b0-a595-4056-9db8-094b44618c71",
   "metadata": {
    "tags": []
   },
   "outputs": [],
   "source": [
    "site_success_rate = spacex_df.groupby('Launch Site')['class'].mean()\n",
    "highest_success_rate_site = site_success_rate.idxmax()\n",
    "print(\"Site with the highest launch success rate:\", highest_success_rate_site)"
   ]
  },
  {
   "cell_type": "markdown",
   "id": "2ab0fb9d-334c-4c1b-8036-e5cda9378173",
   "metadata": {},
   "source": [
    "3. **Which payload range(s) has the highest launch success rate?**\n",
    "   - Use the scatter plot and adjust the payload range using the slider. Observe the success rates for different ranges to identify which payload ranges have the highest success rates."
   ]
  },
  {
   "cell_type": "code",
   "execution_count": null,
   "id": "32adecbb-34ad-433f-a244-afd08aaca6f1",
   "metadata": {
    "tags": []
   },
   "outputs": [],
   "source": [
    "def payload_success_rate(min_payload, max_payload):\n",
    "    payload_range_df = spacex_df[(spacex_df['Payload Mass (kg)'] >= min_payload) & \n",
    "                                 (spacex_df['Payload Mass (kg)'] <= max_payload)]\n",
    "    return payload_range_df['class'].mean()\n",
    "\n",
    "# Example usage:\n",
    "print(\"Success rate for payload range 0-10000 kg:\", payload_success_rate(0, 10000))"
   ]
  },
  {
   "cell_type": "markdown",
   "id": "a3d64691-1cec-48fb-ad25-cf7028e4eb8c",
   "metadata": {},
   "source": [
    "4. **Which F9 Booster version (v1.0, v1.1, FT, B4, B5, etc.) has the highest launch success rate?**\n",
    "   - Color-label the scatter plot points by Booster Version. Filter the data by booster version and calculate the success rates to determine which version has the highest success rate."
   ]
  },
  {
   "cell_type": "code",
   "execution_count": null,
   "id": "dad6eb17-895f-4e27-907a-c681caed89e5",
   "metadata": {
    "tags": []
   },
   "outputs": [],
   "source": [
    "booster_success_rate = spacex_df.groupby('Booster Version')['class'].mean()\n",
    "highest_success_rate_booster = booster_success_rate.idxmax()\n",
    "print(\"F9 Booster version with the highest launch success rate:\", highest_success_rate_booster)"
   ]
  },
  {
   "cell_type": "code",
   "execution_count": null,
   "id": "50714439-35ef-4971-906b-7d17b7442289",
   "metadata": {
    "tags": []
   },
   "outputs": [],
   "source": [
    "#see example https://www.coursera.org/learn/applied-data-science-capstone/discussions/weeks/3/threads/zNz3SEIhEey41RIHax-r7Q"
   ]
  },
  {
   "cell_type": "markdown",
   "id": "a5885844-e407-4154-87fc-79d7bc7b33af",
   "metadata": {},
   "source": [
    "By utilizing these analyses along with our dashboard, we should be able to extract meaningful insights from the SpaceX launch data."
   ]
  },
  {
   "cell_type": "markdown",
   "id": "9bf936d3-02a0-40a5-98e6-0664b1251008",
   "metadata": {},
   "source": [
    "## Author\n",
    "\n",
    "[Walter Roye Taju Fanka](https://github.com/FankaRoy/IBM-Data-Science-Professional-Certificate/tree/main)"
   ]
  },
  {
   "cell_type": "markdown",
   "id": "c1b3486c-4b7b-405a-9842-96cc22350db4",
   "metadata": {},
   "source": [
    "Copyright © 2021. All rights reserved."
   ]
  }
 ],
 "metadata": {
  "kernelspec": {
   "display_name": "Python 3 (ipykernel)",
   "language": "python",
   "name": "python3"
  },
  "language_info": {
   "codemirror_mode": {
    "name": "ipython",
    "version": 3
   },
   "file_extension": ".py",
   "mimetype": "text/x-python",
   "name": "python",
   "nbconvert_exporter": "python",
   "pygments_lexer": "ipython3",
   "version": "3.11.5"
  }
 },
 "nbformat": 4,
 "nbformat_minor": 5
}
